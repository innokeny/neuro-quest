{
 "cells": [
  {
   "cell_type": "code",
   "execution_count": 1,
   "id": "dd7df132",
   "metadata": {},
   "outputs": [],
   "source": [
    "from pathlib import Path\n",
    "\n",
    "from src.memory.short import ShortTermMemory\n",
    "from src.memory.long import LongTermMemory\n",
    "from src.models.core import DungeonMaster\n",
    "from src.schemas.action import Action"
   ]
  },
  {
   "cell_type": "code",
   "execution_count": 2,
   "id": "64c2f9c0",
   "metadata": {},
   "outputs": [],
   "source": [
    "SHORT_TERM_MEMORY_SIZE = 5\n",
    "LONG_TERM_MEMORY_SIZE = 2\n",
    "\n",
    "MODEL_NAME = \"Qwen/Qwen3-0.6B\"\n",
    "CORE_MODEL_PATH = Path(\"./models/core/checkpoint-2500\")\n",
    "EMBEDDING_MODEL_NAME = \"sentence-transformers/all-MiniLM-L6-v2\""
   ]
  },
  {
   "cell_type": "code",
   "execution_count": 3,
   "id": "faccbb57",
   "metadata": {},
   "outputs": [],
   "source": [
    "short = ShortTermMemory(SHORT_TERM_MEMORY_SIZE)\n",
    "long = LongTermMemory(EMBEDDING_MODEL_NAME)"
   ]
  },
  {
   "cell_type": "code",
   "execution_count": 4,
   "id": "0fb6d732",
   "metadata": {},
   "outputs": [],
   "source": [
    "master = DungeonMaster(CORE_MODEL_PATH, MODEL_NAME)"
   ]
  },
  {
   "cell_type": "code",
   "execution_count": 5,
   "id": "0d309e76",
   "metadata": {},
   "outputs": [
    {
     "data": {
      "text/plain": [
       "'```The creature is just about to fall into the ground, and before you can even notice its movement it will be gone.``` The creature is going to be there for some time, but after that... It would vanish from your sight as it moves 25 feet away from you in one breath. It\\'s all the same. \"I don\\'t think I\\'ll ever get this down...\"  As she said so, she took her turn on the map, moving back two steps towards the creatures location. She could see them, but couldn\\'t seem to do anything to keep them hidden from view. \"We might need a few more turns here. But if they\\'re coming, we\\'d better be ready.\"  She turned around once again to'"
      ]
     },
     "execution_count": 5,
     "metadata": {},
     "output_type": "execute_result"
    }
   ],
   "source": [
    "primula = master.generate_action('', 'Make dungeon history setup')\n",
    "short.add(Action(role='assistant', content=primula))\n",
    "long.add_entry(primula, {})\n",
    "primula"
   ]
  },
  {
   "cell_type": "code",
   "execution_count": 7,
   "id": "52569f90",
   "metadata": {},
   "outputs": [],
   "source": [
    "def act(text: str):\n",
    "    context = f\"{short.get()}\\n{long.get_context(text, k=LONG_TERM_MEMORY_SIZE)}\"\n",
    "    answer = master.generate_action(context, text)\n",
    "    short.add(Action(role='assistant', content=answer))\n",
    "    long.add_entry(answer, {})\n",
    "    return answer"
   ]
  },
  {
   "cell_type": "code",
   "execution_count": 8,
   "id": "7341cfa4",
   "metadata": {},
   "outputs": [
    {
     "data": {
      "text/plain": [
       "'```You could not hear the sound as the creature was falling through. But then, when it finally fell to earth, it didn\\'t look up at the group.```\\n          ```As soon as you could spot the creature falling to the ground, you could try to see what happened. After all, that was just an attempt by the creature to distract you. If that were not enough, he may have tried to use his other abilities or maybe even himself.```  You could not hear the sound as the creature was falling through. But then, when it finally fell to earth, it didn\\'t look up at the group.  You could see them, but couldn\\'t seem to do anything to keep them hidden from view.  \"What'"
      ]
     },
     "execution_count": 8,
     "metadata": {},
     "output_type": "execute_result"
    }
   ],
   "source": [
    "act(\"I say What is the creature?\")"
   ]
  },
  {
   "cell_type": "code",
   "execution_count": 9,
   "id": "0dfb5e0f",
   "metadata": {},
   "outputs": [
    {
     "data": {
      "text/plain": [
       "'The creature was gone, but it made a noise that meant that it had been trying to make you believe it would still come! You could not hear the sound as the creature was falling through. But then, when it finally fell to earth, it didn\\'t look up at the group.  You could see them, but couldn\\'t seem to do anything to keep them hidden from view.  \"What?\"\\n[im_end] The creature was gone, but it made a noise that meant that it had been trying to make you believe it would still come! You could not hear the sound as the creature was falling through. But then, when it finally fell to earth, it didn\\'t look up at the group.  You could see them,'"
      ]
     },
     "execution_count": 9,
     "metadata": {},
     "output_type": "execute_result"
    }
   ],
   "source": [
    "act(\"I kill the creature\")"
   ]
  },
  {
   "cell_type": "code",
   "execution_count": null,
   "id": "792e28a4",
   "metadata": {},
   "outputs": [],
   "source": []
  }
 ],
 "metadata": {
  "kernelspec": {
   "display_name": ".venv",
   "language": "python",
   "name": "python3"
  },
  "language_info": {
   "codemirror_mode": {
    "name": "ipython",
    "version": 3
   },
   "file_extension": ".py",
   "mimetype": "text/x-python",
   "name": "python",
   "nbconvert_exporter": "python",
   "pygments_lexer": "ipython3",
   "version": "3.12.3"
  }
 },
 "nbformat": 4,
 "nbformat_minor": 5
}
