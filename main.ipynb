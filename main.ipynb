{
 "cells": [
  {
   "cell_type": "code",
   "execution_count": 1,
   "id": "dd7df132",
   "metadata": {},
   "outputs": [],
   "source": [
    "from src.memory.short import ShortTermMemory\n",
    "from src.models.core import MockModel\n",
    "from src.quest.quest import Quest"
   ]
  },
  {
   "cell_type": "code",
   "execution_count": 2,
   "id": "52712ea8",
   "metadata": {},
   "outputs": [],
   "source": [
    "short = ShortTermMemory(3)\n",
    "\n",
    "quest = Quest(short, MockModel())"
   ]
  },
  {
   "cell_type": "code",
   "execution_count": 5,
   "id": "89fb4583",
   "metadata": {},
   "outputs": [
    {
     "data": {
      "text/plain": [
       "Action(role='assistant', content='хозяин ударил по голове')"
      ]
     },
     "execution_count": 5,
     "metadata": {},
     "output_type": "execute_result"
    }
   ],
   "source": [
    "quest.start('daasd')"
   ]
  },
  {
   "cell_type": "code",
   "execution_count": 6,
   "id": "cafab918",
   "metadata": {},
   "outputs": [
    {
     "data": {
      "text/plain": [
       "deque([Action(role='assistant', content='хозяин ударил по голове'),\n",
       "       Action(role='user', content='daasd'),\n",
       "       Action(role='assistant', content='хозяин ударил по голове')],\n",
       "      maxlen=3)"
      ]
     },
     "execution_count": 6,
     "metadata": {},
     "output_type": "execute_result"
    }
   ],
   "source": [
    "short.memory"
   ]
  },
  {
   "cell_type": "code",
   "execution_count": null,
   "id": "b0806dcf",
   "metadata": {},
   "outputs": [],
   "source": []
  }
 ],
 "metadata": {
  "kernelspec": {
   "display_name": ".venv",
   "language": "python",
   "name": "python3"
  },
  "language_info": {
   "codemirror_mode": {
    "name": "ipython",
    "version": 3
   },
   "file_extension": ".py",
   "mimetype": "text/x-python",
   "name": "python",
   "nbconvert_exporter": "python",
   "pygments_lexer": "ipython3",
   "version": "3.12.3"
  }
 },
 "nbformat": 4,
 "nbformat_minor": 5
}
