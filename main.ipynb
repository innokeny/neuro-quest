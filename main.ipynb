{
 "cells": [
  {
   "cell_type": "code",
   "execution_count": 1,
   "id": "792e28a4",
   "metadata": {},
   "outputs": [],
   "source": [
    "from src.engine.engine import Engine, EngineConfig\n",
    "from src.ml.inference.master import MasterConfig, GenerationConfig\n",
    "from src.session.notebook import NotebookSession\n",
    "from pathlib import Path"
   ]
  },
  {
   "cell_type": "code",
   "execution_count": 2,
   "id": "10bf091a",
   "metadata": {},
   "outputs": [
    {
     "name": "stderr",
     "output_type": "stream",
     "text": [
      "\u001b[32m2025-06-12 02:51:17.482\u001b[0m | \u001b[34m\u001b[1mDEBUG   \u001b[0m | \u001b[36msrc.engine.engine\u001b[0m:\u001b[36m__init__\u001b[0m:\u001b[36m29\u001b[0m - \u001b[34m\u001b[1mLoaded Master Model\u001b[0m\n",
      "Device set to use cuda:0\n",
      "\u001b[32m2025-06-12 02:51:18.298\u001b[0m | \u001b[34m\u001b[1mDEBUG   \u001b[0m | \u001b[36msrc.engine.engine\u001b[0m:\u001b[36m__init__\u001b[0m:\u001b[36m32\u001b[0m - \u001b[34m\u001b[1mLoaded Ner Model: {'path': PosixPath('models/ner')}\u001b[0m\n",
      "\u001b[32m2025-06-12 02:51:23.082\u001b[0m | \u001b[34m\u001b[1mDEBUG   \u001b[0m | \u001b[36msrc.engine.engine\u001b[0m:\u001b[36m__init__\u001b[0m:\u001b[36m40\u001b[0m - \u001b[34m\u001b[1mLoaded Vector DB\u001b[0m\n",
      "\u001b[32m2025-06-12 02:51:23.083\u001b[0m | \u001b[34m\u001b[1mDEBUG   \u001b[0m | \u001b[36msrc.engine.engine\u001b[0m:\u001b[36m__init__\u001b[0m:\u001b[36m42\u001b[0m - \u001b[34m\u001b[1mEngine initialized\u001b[0m\n"
     ]
    }
   ],
   "source": [
    "config = EngineConfig(\n",
    "    vector_db_path=Path('tmp/db'),\n",
    "    number_of_remind_items=5,\n",
    "    master_config=MasterConfig(\n",
    "        path=Path('Qwen/Qwen3-0.6B'),\n",
    "        preambular=\" An ancient seal weakens, freeing horrors long imprisoned. The realm trembles, its hope fading with the dying light. You must journey where others fear to tread before the final dusk falls.\",\n",
    "        generation_config=GenerationConfig(temperature=0.7, max_new_tokens=128),\n",
    "    ),\n",
    "    ner_model_path=Path('models/ner'),\n",
    "    embedding_model_path=Path(\n",
    "        'sentence-transformers/all-MiniLM-L6-v2'\n",
    "    )\n",
    ")\n",
    "\n",
    "engine = Engine(config, debug=True) "
   ]
  },
  {
   "cell_type": "code",
   "execution_count": 3,
   "id": "67fe0a9c",
   "metadata": {},
   "outputs": [
    {
     "name": "stderr",
     "output_type": "stream",
     "text": [
      "\u001b[32m2025-06-12 02:51:26.823\u001b[0m | \u001b[34m\u001b[1mDEBUG   \u001b[0m | \u001b[36msrc.engine.engine\u001b[0m:\u001b[36mdialog\u001b[0m:\u001b[36m80\u001b[0m - \u001b[34m\u001b[1mEntities: [NerEntity(text='see', type=<NerEntityType.ACTION: 'ACTION'>)]\u001b[0m\n",
      "\u001b[32m2025-06-12 02:51:26.948\u001b[0m | \u001b[34m\u001b[1mDEBUG   \u001b[0m | \u001b[36msrc.engine.engine\u001b[0m:\u001b[36mremind\u001b[0m:\u001b[36m51\u001b[0m - \u001b[34m\u001b[1mRemind Items: []\u001b[0m\n",
      "\u001b[32m2025-06-12 02:51:26.948\u001b[0m | \u001b[34m\u001b[1mDEBUG   \u001b[0m | \u001b[36msrc.engine.engine\u001b[0m:\u001b[36mdialog\u001b[0m:\u001b[36m83\u001b[0m - \u001b[34m\u001b[1mContext: set()\u001b[0m\n",
      "\u001b[32m2025-06-12 02:51:30.676\u001b[0m | \u001b[34m\u001b[1mDEBUG   \u001b[0m | \u001b[36msrc.engine.engine\u001b[0m:\u001b[36mmemorize\u001b[0m:\u001b[36m64\u001b[0m - \u001b[34m\u001b[1mEntities: [NerEntity(text='see', type=<NerEntityType.ACTION: 'ACTION'>), NerEntity(text='emerging', type=<NerEntityType.ACTION: 'ACTION'>), NerEntity(text='lined', type=<NerEntityType.ACTION: 'ACTION'>), NerEntity(text='fear', type=<NerEntityType.SPELL: 'SPELL'>)]\u001b[0m\n",
      "\u001b[32m2025-06-12 02:51:30.773\u001b[0m | \u001b[34m\u001b[1mDEBUG   \u001b[0m | \u001b[36msrc.engine.engine\u001b[0m:\u001b[36mmemorize\u001b[0m:\u001b[36m64\u001b[0m - \u001b[34m\u001b[1mEntities: [NerEntity(text='weakening', type=<NerEntityType.ACTION: 'ACTION'>), NerEntity(text='feels', type=<NerEntityType.ACTION: 'ACTION'>)]\u001b[0m\n"
     ]
    },
    {
     "name": "stdout",
     "output_type": "stream",
     "text": [
      "You see a strange figure emerging from the shadows, its face lined with ancient wisdom and fear. The seal is slowly weakening, and the realm feels a terrible shift.\n"
     ]
    }
   ],
   "source": [
    "response = engine.dialog(\"what i see\")\n",
    "print(response.text)"
   ]
  },
  {
   "cell_type": "code",
   "execution_count": 6,
   "id": "290f2c4f",
   "metadata": {},
   "outputs": [
    {
     "name": "stderr",
     "output_type": "stream",
     "text": [
      "\u001b[32m2025-06-07 17:46:35.015\u001b[0m | \u001b[34m\u001b[1mDEBUG   \u001b[0m | \u001b[36msrc.engine.engine\u001b[0m:\u001b[36mdialog\u001b[0m:\u001b[36m80\u001b[0m - \u001b[34m\u001b[1mEntities: []\u001b[0m\n",
      "\u001b[32m2025-06-07 17:46:35.015\u001b[0m | \u001b[34m\u001b[1mDEBUG   \u001b[0m | \u001b[36msrc.engine.engine\u001b[0m:\u001b[36mdialog\u001b[0m:\u001b[36m83\u001b[0m - \u001b[34m\u001b[1mContext: {'', \"The seal's weakening is a sign of the world's fate approaching, and the shadows begin to rise.\"}\u001b[0m\n",
      "\u001b[32m2025-06-07 17:46:37.181\u001b[0m | \u001b[34m\u001b[1mDEBUG   \u001b[0m | \u001b[36msrc.engine.engine\u001b[0m:\u001b[36mmemorize\u001b[0m:\u001b[36m64\u001b[0m - \u001b[34m\u001b[1mEntities: [NerEntity(text='watching', type=<NerEntityType.ACTION: 'ACTION'>), NerEntity(text='stirring', type=<NerEntityType.ACTION: 'ACTION'>)]\u001b[0m\n"
     ]
    },
    {
     "name": "stdout",
     "output_type": "stream",
     "text": [
      "There are several shadows that are watching over the realm, and the spirits of the past are stirring.\n"
     ]
    }
   ],
   "source": [
    "response = engine.dialog(\"how many shadows are there\")\n",
    "print(response.text)"
   ]
  },
  {
   "cell_type": "code",
   "execution_count": 7,
   "id": "b9da0746",
   "metadata": {},
   "outputs": [
    {
     "name": "stderr",
     "output_type": "stream",
     "text": [
      "\u001b[32m2025-06-07 17:47:19.363\u001b[0m | \u001b[34m\u001b[1mDEBUG   \u001b[0m | \u001b[36msrc.engine.engine\u001b[0m:\u001b[36mdialog\u001b[0m:\u001b[36m80\u001b[0m - \u001b[34m\u001b[1mEntities: [NerEntity(text='in', type=<NerEntityType.ACTION: 'ACTION'>)]\u001b[0m\n",
      "\u001b[32m2025-06-07 17:47:19.374\u001b[0m | \u001b[34m\u001b[1mDEBUG   \u001b[0m | \u001b[36msrc.engine.engine\u001b[0m:\u001b[36mremind\u001b[0m:\u001b[36m51\u001b[0m - \u001b[34m\u001b[1mRemind Items: ['There are several shadows that are watching over the realm, and the spirits of the past are stirring', 'There are several shadows that are watching over the realm, and the spirits of the past are stirring', \"The seal's weakening is a sign of the world's fate approaching, and the shadows begin to rise\", \"The seal's weakening is a sign of the world's fate approaching, and the shadows begin to rise\", \"The seal's weakening is a sign of the world's fate approaching, and the shadows begin to rise\"]\u001b[0m\n",
      "\u001b[32m2025-06-07 17:47:19.375\u001b[0m | \u001b[34m\u001b[1mDEBUG   \u001b[0m | \u001b[36msrc.engine.engine\u001b[0m:\u001b[36mdialog\u001b[0m:\u001b[36m83\u001b[0m - \u001b[34m\u001b[1mContext: {'', 'There are several shadows that are watching over the realm, and the spirits of the past are stirring', 'There are several shadows that are watching over the realm, and the spirits of the past are stirring.', \"The seal's weakening is a sign of the world's fate approaching, and the shadows begin to rise.\", \"The seal's weakening is a sign of the world's fate approaching, and the shadows begin to rise\"}\u001b[0m\n",
      "\u001b[32m2025-06-07 17:47:25.578\u001b[0m | \u001b[34m\u001b[1mDEBUG   \u001b[0m | \u001b[36msrc.engine.engine\u001b[0m:\u001b[36mmemorize\u001b[0m:\u001b[36m64\u001b[0m - \u001b[34m\u001b[1mEntities: [NerEntity(text='approaching', type=<NerEntityType.ACTION: 'ACTION'>), NerEntity(text='begin', type=<NerEntityType.ACTION: 'ACTION'>), NerEntity(text='rise', type=<NerEntityType.ACTION: 'ACTION'>)]\u001b[0m\n",
      "\u001b[32m2025-06-07 17:47:25.681\u001b[0m | \u001b[34m\u001b[1mDEBUG   \u001b[0m | \u001b[36msrc.engine.engine\u001b[0m:\u001b[36mmemorize\u001b[0m:\u001b[36m64\u001b[0m - \u001b[34m\u001b[1mEntities: [NerEntity(text='stirring', type=<NerEntityType.ACTION: 'ACTION'>), NerEntity(text='trembles', type=<NerEntityType.ACTION: 'ACTION'>)]\u001b[0m\n",
      "\u001b[32m2025-06-07 17:47:25.759\u001b[0m | \u001b[34m\u001b[1mDEBUG   \u001b[0m | \u001b[36msrc.engine.engine\u001b[0m:\u001b[36mmemorize\u001b[0m:\u001b[36m64\u001b[0m - \u001b[34m\u001b[1mEntities: [NerEntity(text='rising', type=<NerEntityType.ACTION: 'ACTION'>), NerEntity(text='find', type=<NerEntityType.ACTION: 'ACTION'>), NerEntity(text='open', type=<NerEntityType.ACTION: 'ACTION'>), NerEntity(text='save', type=<NerEntityType.ACTION: 'ACTION'>)]\u001b[0m\n"
     ]
    },
    {
     "name": "stdout",
     "output_type": "stream",
     "text": [
      "The seal's weakening is a sign of the world's fate approaching, and the shadows begin to rise. The spirits of the past are stirring, and the realm trembles. The shadows are rising, and you must now find the key to open the seal and save the realm from the horrors unleashed.\n"
     ]
    }
   ],
   "source": [
    "response = engine.dialog(\"whats in my inventory\")\n",
    "print(response.text)"
   ]
  },
  {
   "cell_type": "code",
   "execution_count": 5,
   "id": "a751f0c9",
   "metadata": {},
   "outputs": [
    {
     "name": "stderr",
     "output_type": "stream",
     "text": [
      "\u001b[32m2025-06-07 17:18:22.252\u001b[0m | \u001b[34m\u001b[1mDEBUG   \u001b[0m | \u001b[36msrc.engine.engine\u001b[0m:\u001b[36mdialog\u001b[0m:\u001b[36m76\u001b[0m - \u001b[34m\u001b[1mEntities: []\u001b[0m\n"
     ]
    },
    {
     "name": "stdout",
     "output_type": "stream",
     "text": [
      "The seal's broken fragments begin to coalesce into a living nightmare, and I carry my sword with a burden of responsibility. \n"
     ]
    }
   ],
   "source": [
    "response = engine.dialog(\"okay what i have in inventory\")\n",
    "print(response.text)"
   ]
  },
  {
   "cell_type": "code",
   "execution_count": 3,
   "id": "5b8feeec",
   "metadata": {},
   "outputs": [
    {
     "data": {
      "text/html": [
       "<div class='player-msg'><div class='timestamp'>16:49:03</div><strong>👤 Player:</strong> where i am</div>"
      ],
      "text/plain": [
       "<IPython.core.display.HTML object>"
      ]
     },
     "metadata": {},
     "output_type": "display_data"
    },
    {
     "data": {
      "text/html": [
       "<div class='master-msg'><div class='timestamp'>16:49:07</div><strong>🧙 Master:</strong> \n",
       "You are Dungeon Master and you are talking with a player. Respond to the player's actions corresponding to the context.\n",
       "Story Preambular:  An ancient seal weakens, freeing horrors long imprisoned. The realm trembles, its hope fading with the dying light. You must journey where others fear to tread before the final dusk falls.\n",
       "Context: \n",
       "User Action: where i am\n",
       "Answer:\n",
       "You are in a place that has been sealed away by the ancient seal, and now it's time for the final dusk. The realm trembles with fear, and the light fades. As you begin your journey, you must tread carefully</div>"
      ],
      "text/plain": [
       "<IPython.core.display.HTML object>"
      ]
     },
     "metadata": {},
     "output_type": "display_data"
    },
    {
     "data": {
      "text/html": [
       "<div class='player-msg'><div class='timestamp'>16:49:48</div><strong>👤 Player:</strong> what i see</div>"
      ],
      "text/plain": [
       "<IPython.core.display.HTML object>"
      ]
     },
     "metadata": {},
     "output_type": "display_data"
    },
    {
     "data": {
      "text/html": [
       "<div class='system-msg'>Error: list index out of range</div>"
      ],
      "text/plain": [
       "<IPython.core.display.HTML object>"
      ]
     },
     "metadata": {},
     "output_type": "display_data"
    },
    {
     "data": {
      "application/vnd.jupyter.widget-view+json": {
       "model_id": "baf0368cb657429d8d15a70c26e95b65",
       "version_major": 2,
       "version_minor": 0
      },
      "text/plain": [
       "HBox(children=(Text(value='', layout=Layout(width='80%'), placeholder='Enter your statement'), Button(button_s…"
      ]
     },
     "metadata": {},
     "output_type": "display_data"
    }
   ],
   "source": [
    "session = NotebookSession(engine)\n",
    "session.run()"
   ]
  },
  {
   "cell_type": "code",
   "execution_count": null,
   "id": "d0c300a3",
   "metadata": {},
   "outputs": [],
   "source": []
  }
 ],
 "metadata": {
  "kernelspec": {
   "display_name": ".venv",
   "language": "python",
   "name": "python3"
  },
  "language_info": {
   "codemirror_mode": {
    "name": "ipython",
    "version": 3
   },
   "file_extension": ".py",
   "mimetype": "text/x-python",
   "name": "python",
   "nbconvert_exporter": "python",
   "pygments_lexer": "ipython3",
   "version": "3.12.3"
  }
 },
 "nbformat": 4,
 "nbformat_minor": 5
}
