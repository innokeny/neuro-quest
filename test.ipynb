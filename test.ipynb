{
 "cells": [
  {
   "cell_type": "code",
   "execution_count": 1,
   "id": "4d160a21",
   "metadata": {},
   "outputs": [],
   "source": [
    "from selenium import webdriver\n",
    "from selenium.webdriver.common.by import By\n",
    "from selenium.webdriver.support.ui import WebDriverWait\n",
    "from selenium.webdriver.support import expected_conditions as EC\n",
    "from bs4 import BeautifulSoup\n",
    "import time\n",
    "import json\n",
    "import joblib\n",
    "import time\n",
    "from treelib import Node, Tree"
   ]
  },
  {
   "cell_type": "code",
   "execution_count": 11,
   "id": "70be670e",
   "metadata": {},
   "outputs": [],
   "source": [
    "tree = joblib.load(\"dataset/mine/['7457'].tree\")"
   ]
  },
  {
   "cell_type": "code",
   "execution_count": 12,
   "id": "21bcfa4c",
   "metadata": {},
   "outputs": [
    {
     "name": "stdout",
     "output_type": "stream",
     "text": [
      "root\n",
      "└── The Start\n",
      "    └── Background Information\n",
      "        └── That Night\n",
      "            └── The Breach\n",
      "                └── Fight the sentries\n",
      "                    └── Combat Choice\n",
      "                        └── Surrender\n",
      "                            └── The march\n",
      "                                └── Pay the 20 credit tip\n",
      "                                    └── Tel-Nayron\n",
      "                                        ├── Firing Range\n",
      "                                        │   └── If the number is 5-17\n",
      "                                        │       └── The inn\n",
      "                                        │           └── If you have a room near the top floor\n",
      "                                        │               └── The next stage\n",
      "                                        └── Hospital\n",
      "\n"
     ]
    }
   ],
   "source": [
    "tree.show()"
   ]
  },
  {
   "cell_type": "code",
   "execution_count": 10,
   "id": "97fcfdf0",
   "metadata": {},
   "outputs": [
    {
     "data": {
      "text/plain": [
       "40"
      ]
     },
     "execution_count": 10,
     "metadata": {},
     "output_type": "execute_result"
    }
   ],
   "source": [
    "len(tree.nodes)"
   ]
  },
  {
   "cell_type": "code",
   "execution_count": null,
   "id": "b79af9ad",
   "metadata": {},
   "outputs": [],
   "source": []
  }
 ],
 "metadata": {
  "kernelspec": {
   "display_name": ".venv",
   "language": "python",
   "name": "python3"
  },
  "language_info": {
   "codemirror_mode": {
    "name": "ipython",
    "version": 3
   },
   "file_extension": ".py",
   "mimetype": "text/x-python",
   "name": "python",
   "nbconvert_exporter": "python",
   "pygments_lexer": "ipython3",
   "version": "3.12.3"
  }
 },
 "nbformat": 4,
 "nbformat_minor": 5
}
