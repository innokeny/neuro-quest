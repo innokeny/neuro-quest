{
 "cells": [
  {
   "cell_type": "code",
   "execution_count": 26,
   "id": "4d160a21",
   "metadata": {},
   "outputs": [],
   "source": [
    "from selenium import webdriver\n",
    "from selenium.webdriver.common.by import By\n",
    "from selenium.webdriver.support.ui import WebDriverWait\n",
    "from selenium.webdriver.support import expected_conditions as EC\n",
    "from bs4 import BeautifulSoup\n",
    "import time\n",
    "import json\n",
    "import joblib\n",
    "import time\n",
    "from treelib import Node, Tree"
   ]
  },
  {
   "cell_type": "code",
   "execution_count": 27,
   "id": "70be670e",
   "metadata": {},
   "outputs": [],
   "source": [
    "tree = joblib.load(\"dataset/dump/short-fantasy-quests/9789.tree\")"
   ]
  },
  {
   "cell_type": "code",
   "execution_count": 28,
   "id": "21bcfa4c",
   "metadata": {},
   "outputs": [
    {
     "name": "stdout",
     "output_type": "stream",
     "text": [
      "root\n",
      "└── Continue\n",
      "    ├── Head back to Gree\n",
      "    │   ├── Kill them all!\n",
      "    │   └── Run as fast as you can\n",
      "    │       └── Travel to another city\n",
      "    │           ├── Accept his offer\n",
      "    │           │   └── Next\n",
      "    │           │       └── Next\n",
      "    │           │           ├── A smaller one\n",
      "    │           │           │   ├── Debark and attack them\n",
      "    │           │           │   └── Use the ships cannons\n",
      "    │           │           │       ├── No\n",
      "    │           │           │       └── Yes\n",
      "    │           │           │           ├── Duck!\n",
      "    │           │           │           │   ├── Attack!\n",
      "    │           │           │           │   └── Wait\n",
      "    │           │           │           │       └── Epilogue\n",
      "    │           │           │           └── Run!\n",
      "    │           │           └── The biggest one\n",
      "    │           └── Decline\n",
      "    │               ├── Head for the governors palace\n",
      "    │               └── Head for the local inn\n",
      "    │                   ├── I'm not a coward!\n",
      "    │                   │   └── Next\n",
      "    │                   │       ├── Attack the Grazul\n",
      "    │                   │       └── Attack the soldiers\n",
      "    │                   └── Yes,I am a coward.\n",
      "    └── Head for the coastal town of Thersport\n",
      "\n"
     ]
    }
   ],
   "source": [
    "tree.show()"
   ]
  },
  {
   "cell_type": "code",
   "execution_count": 29,
   "id": "bc0ff4e4",
   "metadata": {},
   "outputs": [
    {
     "data": {
      "text/plain": [
       "'5ce3227f4b2794246eee3e4fbc351386'"
      ]
     },
     "execution_count": 29,
     "metadata": {},
     "output_type": "execute_result"
    }
   ],
   "source": [
    "tree.root"
   ]
  },
  {
   "cell_type": "code",
   "execution_count": 30,
   "id": "fefc9e0f",
   "metadata": {},
   "outputs": [
    {
     "data": {
      "text/plain": [
       "{'text': 'These are dark and dreadful days. A group of evil wizards, The Black Veil, or as the people call them: The Sourge, hold the land of Azrya in an iron grip. Hordes of undead and bands of barbaric orcs are the least of the evils that roam the land freely. The people, poor and neglected, live in constant fear. Some people dare to stand up against their oppressors, but they are at great disadvantage. But slowly tales begin to spread across the land of a hero that has been born. One of the last remaining sages says that he saw a message of great importance written in the stars. Whatever the message meant, people are realising that big is going to happen in the land.'}"
      ]
     },
     "execution_count": 30,
     "metadata": {},
     "output_type": "execute_result"
    }
   ],
   "source": [
    "root_id = tree.root\n",
    "\n",
    "root_node = tree.get_node(root_id)\n",
    "\n",
    "root_node.data"
   ]
  },
  {
   "cell_type": "code",
   "execution_count": 31,
   "id": "a871ece4",
   "metadata": {},
   "outputs": [
    {
     "data": {
      "text/plain": [
       "[Node(tag=Continue, identifier=dbd1d0015f3c43e8e8fe634d2735a262, data={'text': \"You are born at a small farm at the outskirts of the kingdom. Your life on the farm is miserable, the crops often fail, your father drinks to forget his troubles and often hits you and your mother ran away, leaving you with your brutish father. To escape the misery of your life, you often leave for the nearby city of Gree, pickpocketing citizens and stealing food from the market stalls. You do all this without remorse, you don't care what happens to the people if they lost all their money, you are poor, so why should others be not? After another succesful day of stealing, you return home, only to find that your farm has burned to the ground. While you walk through the rubble that was once your home, you find the half burned remains of your father, or rather ex-father. Unsuprisingly, you don't let a single tear and leave the ruins of your farm, taking some coins and a knife that survived the fire with you, while you decide where to head next.\"})]"
      ]
     },
     "execution_count": 31,
     "metadata": {},
     "output_type": "execute_result"
    }
   ],
   "source": [
    "tree.children(root_id)"
   ]
  },
  {
   "cell_type": "code",
   "execution_count": 32,
   "id": "97fcfdf0",
   "metadata": {},
   "outputs": [],
   "source": [
    "tree.get_node(\"a6a2a17e03ffd1573f76e1839736e1c9\")"
   ]
  },
  {
   "cell_type": "code",
   "execution_count": null,
   "id": "b79af9ad",
   "metadata": {},
   "outputs": [],
   "source": []
  }
 ],
 "metadata": {
  "kernelspec": {
   "display_name": ".venv",
   "language": "python",
   "name": "python3"
  },
  "language_info": {
   "codemirror_mode": {
    "name": "ipython",
    "version": 3
   },
   "file_extension": ".py",
   "mimetype": "text/x-python",
   "name": "python",
   "nbconvert_exporter": "python",
   "pygments_lexer": "ipython3",
   "version": "3.12.3"
  }
 },
 "nbformat": 4,
 "nbformat_minor": 5
}
