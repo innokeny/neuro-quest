{
 "cells": [
  {
   "cell_type": "code",
   "execution_count": 1,
   "id": "4d160a21",
   "metadata": {},
   "outputs": [],
   "source": [
    "from selenium import webdriver\n",
    "from selenium.webdriver.common.by import By\n",
    "from selenium.webdriver.support.ui import WebDriverWait\n",
    "from selenium.webdriver.support import expected_conditions as EC\n",
    "from bs4 import BeautifulSoup\n",
    "import time\n",
    "import json\n",
    "import joblib\n",
    "import time\n",
    "from treelib import Node, Tree"
   ]
  },
  {
   "cell_type": "code",
   "execution_count": 3,
   "id": "70be670e",
   "metadata": {},
   "outputs": [],
   "source": [
    "tree = joblib.load(\"dataset/dump/short-fantasy-quests/8875.tree\")"
   ]
  },
  {
   "cell_type": "code",
   "execution_count": 4,
   "id": "21bcfa4c",
   "metadata": {},
   "outputs": [
    {
     "name": "stdout",
     "output_type": "stream",
     "text": [
      "root\n",
      "├── \"Um, hello?\"\n",
      "│   ├── \"Going hunting?\"\n",
      "│   ├── \"Uh, what's with all the weapons?\"\n",
      "│   │   ├── \"And, uh, where would that vampire be now?\"\n",
      "│   │   │   ├── \"But I'm not a vampire!\"\n",
      "│   │   │   │   ├── \"I got nothin; sorry.\"\n",
      "│   │   │   │   │   ├── \"I accept my fate.\"\n",
      "│   │   │   │   │   └── \"WAIT! Isn't there no other way?!\"\n",
      "│   │   │   │   │       ├── \"Inconceivable!\"\n",
      "│   │   │   │   │       ├── Drink his cup.\n",
      "│   │   │   │   │       └── Drink your cup.\n",
      "│   │   │   │   ├── \"What proof do you have that I AM a vampire, hmm?\"\n",
      "│   │   │   │   └── \"Why would a vampire be sleeping at night?\"\n",
      "│   │   │   │       ├── \"There, there.\"\n",
      "│   │   │   │       │   └── Back to bed.\n",
      "│   │   │   │       └── \"This was your first vampire?\"\n",
      "│   │   │   ├── \"You caught me; I'm a vampire.\" (lie)\n",
      "│   │   │   └── Leap up and attack him.\n",
      "│   │   ├── \"Are you crazy? Get out of here before I call the cops!\"\n",
      "│   │   │   ├── \"My one true weakness?! My one true weakness is ANY kind of bullet!\"\n",
      "│   │   │   │   ├── \"That's werewolves, you dolt.\"\n",
      "│   │   │   │   └── Attack him.\n",
      "│   │   │   ├── \"My only weakness is fire. I think I'm allergic.\"\n",
      "│   │   │   │   ├── \"No, I'm a human.\"\n",
      "│   │   │   │   └── \"Oh, I'm something MUCH worse...\"\n",
      "│   │   │   └── \"You really think I'm a vampire? You must be crazy!\"\n",
      "│   │   │       ├── \"A vampire hunter-hunter.\"\n",
      "│   │   │       ├── \"I lied.\"\n",
      "│   │   │       │   ├── \"Nope.\"\n",
      "│   │   │       │   └── \"Um, I can make you a vampire...\"\n",
      "│   │   │       │       ├── \"It's a lot like sex...\"\n",
      "│   │   │       │       │   ├── Boy\n",
      "│   │   │       │       │   └── Girl\n",
      "│   │   │       │       └── \"No; I changed my mind.\"\n",
      "│   │   │       └── \"I'm just a normal human, you mad man!\"\n",
      "│   │   └── \"Can't you go hunt somewhere else?\"\n",
      "│   └── \"WHAT THE HELL, MAN?!\"\n",
      "└── Pretend to be asleep.\n",
      "    └── Continue pretending to be asleep.\n",
      "        └── Continue pretending to be asleep.\n",
      "            ├── Continue pretending to be asleep.\n",
      "            └── Leap up and bite him on the neck.\n",
      "\n"
     ]
    }
   ],
   "source": [
    "tree.show()"
   ]
  },
  {
   "cell_type": "code",
   "execution_count": null,
   "id": "fefc9e0f",
   "metadata": {},
   "outputs": [
    {
     "data": {
      "text/plain": [
       "{'text': ''}"
      ]
     },
     "execution_count": 14,
     "metadata": {},
     "output_type": "execute_result"
    }
   ],
   "source": [
    "root_id = 'e934a93166dde9eafa8a4599f826dc61'\n",
    "\n",
    "root_node = tree.get_node(root_id)\n",
    "\n",
    "root_node.data"
   ]
  },
  {
   "cell_type": "code",
   "execution_count": 15,
   "id": "a871ece4",
   "metadata": {},
   "outputs": [
    {
     "data": {
      "text/plain": [
       "[Node(tag=\"Um, hello?\", identifier=dbc49eedbef3bb7ad11b8ca25836f9cf, data={'text': ''}),\n",
       " Node(tag=Pretend to be asleep., identifier=a6a2a17e03ffd1573f76e1839736e1c9, data={'text': ''})]"
      ]
     },
     "execution_count": 15,
     "metadata": {},
     "output_type": "execute_result"
    }
   ],
   "source": [
    "tree.children(root_id)"
   ]
  },
  {
   "cell_type": "code",
   "execution_count": 18,
   "id": "97fcfdf0",
   "metadata": {},
   "outputs": [
    {
     "data": {
      "text/plain": [
       "Node(tag=\"Um, hello?\", identifier=dbc49eedbef3bb7ad11b8ca25836f9cf, data={'text': ''})"
      ]
     },
     "execution_count": 18,
     "metadata": {},
     "output_type": "execute_result"
    }
   ],
   "source": [
    "tree.get_node(\"dbc49eedbef3bb7ad11b8ca25836f9cf\")"
   ]
  },
  {
   "cell_type": "code",
   "execution_count": null,
   "id": "b79af9ad",
   "metadata": {},
   "outputs": [],
   "source": []
  }
 ],
 "metadata": {
  "kernelspec": {
   "display_name": ".venv",
   "language": "python",
   "name": "python3"
  },
  "language_info": {
   "codemirror_mode": {
    "name": "ipython",
    "version": 3
   },
   "file_extension": ".py",
   "mimetype": "text/x-python",
   "name": "python",
   "nbconvert_exporter": "python",
   "pygments_lexer": "ipython3",
   "version": "3.12.3"
  }
 },
 "nbformat": 4,
 "nbformat_minor": 5
}
